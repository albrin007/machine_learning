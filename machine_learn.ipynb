# Importing necessary libraries
import pandas as pd
from sklearn.model_selection import train_test_split
from sklearn.preprocessing import StandardScaler
from sklearn.linear_model import LinearRegression
from sklearn.tree import DecisionTreeRegressor
from sklearn.ensemble import RandomForestRegressor, GradientBoostingRegressor
from sklearn.svm import SVR
from sklearn.metrics import mean_squared_error, mean_absolute_error, r2_score
from sklearn.model_selection import GridSearchCV

# Load dataset (assuming CSV file, replace with correct path)
df = pd.read_csv('/content/CarPrice_Assignment.csv')

# Handling missing values
# Fill missing numeric values with the mean
numeric_cols = df.select_dtypes(include=['number']).columns  # Get numeric columns
df[numeric_cols] = df[numeric_cols].fillna(df[numeric_cols].mean())  # Fill missing values for numeric columns

# Fill missing categorical values with the mode (most frequent value)
categorical_cols = df.select_dtypes(include=['object']).columns  # Get categorical columns
for col in categorical_cols:
    df[col].fillna(df[col].mode()[0], inplace=True)  # Fill missing values for categorical columns with the mode

# Encoding categorical variables (if any)
df = pd.get_dummies(df, drop_first=True)

# Splitting the data into features (X) and target (y)
X = df.drop('price', axis=1)  # Assuming 'price' is the target variable
y = df['price']

# Split into training and testing sets (80% training, 20% testing)
X_train, X_test, y_train, y_test = train_test_split(X, y, test_size=0.2, random_state=42)

# Scaling the features (standardization)
scaler = StandardScaler()
X_train = scaler.fit_transform(X_train)
X_test = scaler.transform(X_test)

# Initializing models
models = {
    'Linear Regression': LinearRegression(),
    'Decision Tree Regressor': DecisionTreeRegressor(),
    'Random Forest Regressor': RandomForestRegressor(),
    'Gradient Boosting Regressor': GradientBoostingRegressor(),
    'Support Vector Regressor': SVR()
}

# Dictionary to store model performances
model_performance = {}

# Fitting and evaluating models
for name, model in models.items():
    model.fit(X_train, y_train)
    y_pred = model.predict(X_test)
    
    r2 = r2_score(y_test, y_pred)
    mse = mean_squared_error(y_test, y_pred)
    mae = mean_absolute_error(y_test, y_pred)
    
    model_performance[name] = {
        'R2 Score': r2,
        'MSE': mse,
        'MAE': mae
    }

# Displaying model performance
model_performance_df = pd.DataFrame(model_performance).T
print(model_performance_df)

# Random Forest Feature Importance
rf_model = RandomForestRegressor()
rf_model.fit(X_train, y_train)

# Getting feature importances
feature_importances = pd.DataFrame(rf_model.feature_importances_,
                                   index=X.columns,
                                   columns=['importance']).sort_values('importance', ascending=False)

print("Feature Importances (Random Forest):")
print(feature_importances)

# Hyperparameter Tuning with GridSearchCV (Random Forest)
param_grid = {
    'n_estimators': [50, 100, 200],
    'max_depth': [None, 10, 20, 30],
    'min_samples_split': [2, 5, 10]
}

# Initialize GridSearchCV
grid_search = GridSearchCV(RandomForestRegressor(), param_grid, cv=5, scoring='neg_mean_squared_error', verbose=1)

# Fit the grid search to the data
grid_search.fit(X_train, y_train)

# Best parameters from grid search
best_params = grid_search.best_params_
print("Best Parameters for Random Forest:", best_params)

# Using the best model from grid search
best_rf_model = grid_search.best_estimator_

# Evaluate the tuned model
y_pred_tuned = best_rf_model.predict(X_test)
print("R2 Score (Tuned):", r2_score(y_test, y_pred_tuned))
print("MSE (Tuned):", mean_squared_error(y_test, y_pred_tuned))
print("MAE (Tuned):", mean_absolute_error(y_test, y_pred_tuned))
